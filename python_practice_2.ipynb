{
  "nbformat": 4,
  "nbformat_minor": 0,
  "metadata": {
    "colab": {
      "provenance": []
    },
    "kernelspec": {
      "name": "python3",
      "display_name": "Python 3"
    },
    "language_info": {
      "name": "python"
    }
  },
  "cells": [
    {
      "cell_type": "markdown",
      "source": [
        "# I. Змінні та памʼять."
      ],
      "metadata": {
        "id": "p9wwt0LZzNvn"
      }
    },
    {
      "cell_type": "markdown",
      "source": [
        "1. Створити змінні, що посилаються на два цілих числа, що однакові за значенням, де значення належить проміжку від -5 до 256. Перевірте, чи будуть ці змінні рівні тільки за значенням або ж ще будуть посилатися на один і той самий обʼєкт в памʼяті? Наведіть код та дайте текстову відповідь нижче."
      ],
      "metadata": {
        "id": "HTJrrm95xSV9"
      }
    },
    {
      "cell_type": "code",
      "execution_count": 6,
      "metadata": {
        "id": "TATni2vzayjG",
        "colab": {
          "base_uri": "https://localhost:8080/"
        },
        "outputId": "716fa2da-3798-4deb-e8bc-73c2104ebaec"
      },
      "outputs": [
        {
          "output_type": "stream",
          "name": "stdout",
          "text": [
            "first_num (27) == second_num (27): True\n",
            "first_num (id: 137417491858480) == second_num (id: 137417491858480): True\n"
          ]
        }
      ],
      "source": [
        "first_num = 27\n",
        "second_num = 27\n",
        "\n",
        "print(\"first_num (%d) == second_num (%d): %s\" % (first_num, second_num, first_num == second_num))\n",
        "print(\"first_num (id: %d) == second_num (id: %d): %s\" % (id(first_num), id(second_num), id(first_num) == id(second_num)))"
      ]
    },
    {
      "cell_type": "markdown",
      "source": [
        "у проміжку від -5 до 256 числа у Python створюються перед початком виконання, тому будь-яка нова змінна у цьому діапазоні посилатиметься вже на існуючий об'єкт."
      ],
      "metadata": {
        "id": "zfRG_o3WbRdg"
      }
    },
    {
      "cell_type": "markdown",
      "source": [
        "2. За допомогою якої функції можна перевірити належність змінної до вказаного типу даних (напр. чи змінна True посилається на значення булевого та цілочисленого типу)?"
      ],
      "metadata": {
        "id": "ISORzt6M3vAt"
      }
    },
    {
      "cell_type": "code",
      "source": [
        "bool_var = True\n",
        "\n",
        "print(isinstance(bool_var, bool))\n",
        "print(isinstance(bool_var, int))"
      ],
      "metadata": {
        "id": "9vL9CFaMbfyo",
        "colab": {
          "base_uri": "https://localhost:8080/"
        },
        "outputId": "74f965a7-5aba-4b5c-bd54-6e4e3b9d6cb1"
      },
      "execution_count": 9,
      "outputs": [
        {
          "output_type": "stream",
          "name": "stdout",
          "text": [
            "True\n",
            "True\n"
          ]
        }
      ]
    },
    {
      "cell_type": "markdown",
      "source": [
        "# II. Цілі числа та числа з рухомою комою"
      ],
      "metadata": {
        "id": "tRxugKAxwYLw"
      }
    },
    {
      "cell_type": "markdown",
      "source": [
        "3. Створити дві змінні, що посилаються на будь-які ціле число та число з рухомою комою та продемонструвати такі арифметичні операції: додавання, віднімання, ділення, множення, ділення без залишку, ділення по модулю, приведення до ступеню. Всі результати операцій вивести на екран."
      ],
      "metadata": {
        "id": "NLHkgd5Gybc8"
      }
    },
    {
      "cell_type": "code",
      "source": [
        "int_num = 3\n",
        "float_num = 0.2\n",
        "\n",
        "print(\"%d + %d = %d\" % (int_num, int_num, int_num + int_num))\n",
        "print(\"%d - %d = %d\" % (int_num, int_num, int_num - int_num))\n",
        "print(\"%d * %d = %d\" % (int_num, int_num, int_num * int_num))\n",
        "print(\"%d / %d = %f\" % (int_num, 2, int_num / 2))\n",
        "print(\"%d // %d = %d\" % (int_num, 2, int_num // 2))\n",
        "print(\"%d %% %d = %d\" % (int_num, 2, int_num % 2))\n",
        "print(\"%d ** %d = %d\" % (int_num, 2, int_num ** 2))\n",
        "print()\n",
        "print(\"%f + %f = %f\" % (float_num, int_num, float_num + int_num))\n",
        "print(\"%f - %f = %f\" % (float_num, int_num, float_num - int_num))\n",
        "print(\"%f * %f = %f\" % (float_num, int_num, float_num * int_num))\n",
        "print(\"%f / %f = %f\" % (float_num, 2, float_num / 2))\n",
        "print(\"%f // %f = %f\" % (float_num, 2, float_num // 2))\n",
        "print(\"%f %% %f = %f\" % (float_num, 2, float_num % 2))\n",
        "print(\"%f ** %f = %f\" % (float_num, 2, float_num ** 2))"
      ],
      "metadata": {
        "id": "nb8u_3pjb2cA",
        "colab": {
          "base_uri": "https://localhost:8080/"
        },
        "outputId": "1aadc8ce-e8c0-4701-d0cc-84c2f44281f4"
      },
      "execution_count": 19,
      "outputs": [
        {
          "output_type": "stream",
          "name": "stdout",
          "text": [
            "3 + 3 = 6\n",
            "3 - 3 = 0\n",
            "3 * 3 = 9\n",
            "3 / 2 = 1.500000\n",
            "3 // 2 = 1\n",
            "3 % 2 = 1\n",
            "3 ** 2 = 9\n",
            "\n",
            "0.200000 + 3.000000 = 3.200000\n",
            "0.200000 - 3.000000 = -2.800000\n",
            "0.200000 * 3.000000 = 0.600000\n",
            "0.200000 / 2.000000 = 0.100000\n",
            "0.200000 // 2.000000 = 0.000000\n",
            "0.200000 % 2.000000 = 0.200000\n",
            "0.200000 ** 2.000000 = 0.040000\n"
          ]
        }
      ]
    },
    {
      "cell_type": "markdown",
      "source": [
        "4. Використовуючи змінні з вправи 3, продемонструйте механізм явного перетворення типів, де числа з рухомою комою перетворюються на цілі числа. Також визначте змінну, що посилається на значення булевого типу і спробуйте явно привести її до цілого числа."
      ],
      "metadata": {
        "id": "1kBClKgPzZnC"
      }
    },
    {
      "cell_type": "code",
      "source": [
        "print(\"float (%f) as int -> %d\" % (float_num, int(float_num)))\n",
        "print(\"bool (%s) as int -> %d\" % (True, int(True)))"
      ],
      "metadata": {
        "id": "TbqJbkeUcKsD",
        "colab": {
          "base_uri": "https://localhost:8080/"
        },
        "outputId": "a785ffc1-75c1-474f-80d3-840e888a267d"
      },
      "execution_count": 20,
      "outputs": [
        {
          "output_type": "stream",
          "name": "stdout",
          "text": [
            "float (0.200000) as int -> 0\n",
            "bool (True) as int -> 1\n"
          ]
        }
      ]
    },
    {
      "cell_type": "markdown",
      "source": [
        "# IІІ. Рядки (String)."
      ],
      "metadata": {
        "id": "EVJ7AflwxrZi"
      }
    },
    {
      "cell_type": "markdown",
      "source": [
        "5. Створити пустий рядок двома різними способами."
      ],
      "metadata": {
        "id": "_s5ECzz9zE61"
      }
    },
    {
      "cell_type": "code",
      "source": [
        "s1 = ''\n",
        "s2 = str()\n",
        "\n",
        "print(s1)\n",
        "print(s2)"
      ],
      "metadata": {
        "id": "fkZJHu9Scvc-",
        "colab": {
          "base_uri": "https://localhost:8080/"
        },
        "outputId": "ef5e147f-cd08-4496-c375-3d861d911938"
      },
      "execution_count": 21,
      "outputs": [
        {
          "output_type": "stream",
          "name": "stdout",
          "text": [
            "\n",
            "\n"
          ]
        }
      ]
    },
    {
      "cell_type": "markdown",
      "source": [
        "6. Створити рядок з апострофом. Зробити його сирим. Вивести обидва рядка на екран."
      ],
      "metadata": {
        "id": "4Bdn9J3MzLf_"
      }
    },
    {
      "cell_type": "code",
      "source": [
        "s = 'об`єкт'\n",
        "sr = r'об`єкт'\n",
        "\n",
        "print(s)\n",
        "print(sr)"
      ],
      "metadata": {
        "id": "ivji_hsmc0GH",
        "colab": {
          "base_uri": "https://localhost:8080/"
        },
        "outputId": "16a4cda7-c5c1-4952-e713-af8b63461f67"
      },
      "execution_count": 23,
      "outputs": [
        {
          "output_type": "stream",
          "name": "stdout",
          "text": [
            "об`єкт\n",
            "об`єкт\n"
          ]
        }
      ]
    },
    {
      "cell_type": "markdown",
      "source": [
        "7. Створити змінну, що буде посилатися на Ваше прізвище латинкою. Створити форматований рядок, який буде мати вигляд \"My surname is ______\", де на місці нижніх підкреслень буде Ваше прізвище зі змінної."
      ],
      "metadata": {
        "id": "bg_d8wM4z8dS"
      }
    },
    {
      "cell_type": "code",
      "source": [
        "my_name = 'Smetaniuk'\n",
        "format_s = f\"My surname is {my_name}\"\n",
        "\n",
        "print(format_s)"
      ],
      "metadata": {
        "id": "kuxFgpWndACq",
        "colab": {
          "base_uri": "https://localhost:8080/"
        },
        "outputId": "198ec444-2be7-4092-96b8-76316f3d5950"
      },
      "execution_count": 32,
      "outputs": [
        {
          "output_type": "stream",
          "name": "stdout",
          "text": [
            "My surname is Smetaniuk\n"
          ]
        }
      ]
    },
    {
      "cell_type": "markdown",
      "source": [
        "8. Маючи рядок \"My dog is crazy.\" перетворити його на список [\"my\", \"dog\", \"is\", \"crazy\"]"
      ],
      "metadata": {
        "id": "1Nc6RqvQ0hxU"
      }
    },
    {
      "cell_type": "code",
      "source": [
        "s = \"My dog is crazy.\"\n",
        "s = s.lower()\n",
        "s = s.removesuffix('.')\n",
        "arr = s.split(' ')\n",
        "\n",
        "print(arr)"
      ],
      "metadata": {
        "id": "w1Ya4RqedUhw",
        "colab": {
          "base_uri": "https://localhost:8080/"
        },
        "outputId": "f6e76589-355a-43fd-eb7a-9604abdedf27"
      },
      "execution_count": 26,
      "outputs": [
        {
          "output_type": "stream",
          "name": "stdout",
          "text": [
            "['my', 'dog', 'is', 'crazy']\n"
          ]
        }
      ]
    },
    {
      "cell_type": "markdown",
      "source": [
        "# IV. Робота зі списками."
      ],
      "metadata": {
        "id": "GYVqN9uP1D4n"
      }
    },
    {
      "cell_type": "markdown",
      "source": [
        "9. Створити список двома різними за синтаксисом способами. За допомогою вбудованої функції обчисліть довжину одного з них."
      ],
      "metadata": {
        "id": "7-DeDunw2sO-"
      }
    },
    {
      "cell_type": "code",
      "source": [
        "lst1 = [1, 2, 3]\n",
        "lst2 = list((1, 2, 3))\n",
        "\n",
        "print(len(arr2))"
      ],
      "metadata": {
        "id": "zxg06Uuxdyoh",
        "colab": {
          "base_uri": "https://localhost:8080/"
        },
        "outputId": "61270ee7-eded-4a0e-cb8d-5788df43e28a"
      },
      "execution_count": 27,
      "outputs": [
        {
          "output_type": "stream",
          "name": "stdout",
          "text": [
            "0\n"
          ]
        }
      ]
    },
    {
      "cell_type": "markdown",
      "source": [
        "10. Створіть два списка та за допомогою спеціального методу додайте другий з них в якості останнього елемента першого."
      ],
      "metadata": {
        "id": "8vmGUTjL22gI"
      }
    },
    {
      "cell_type": "code",
      "source": [
        "lst1 = [1, 2, 3]\n",
        "lst2 = [1, 2, 3]\n",
        "lst2.append(lst1)\n",
        "\n",
        "print(lst2)"
      ],
      "metadata": {
        "id": "uHtjWYw7d7hm",
        "colab": {
          "base_uri": "https://localhost:8080/"
        },
        "outputId": "d50e151c-1852-4d33-f19f-f30800d1e8b0"
      },
      "execution_count": 30,
      "outputs": [
        {
          "output_type": "stream",
          "name": "stdout",
          "text": [
            "[1, 2, 3, [1, 2, 3]]\n"
          ]
        }
      ]
    },
    {
      "cell_type": "markdown",
      "source": [
        "11. Створіть список, де елементами цього списку також є списки. Отримай перший елемент з останнього рядка та виведи значення на екран."
      ],
      "metadata": {
        "id": "JC3BkD-67_--"
      }
    },
    {
      "cell_type": "code",
      "source": [
        "lst1 = [[1, 2, 3], ['1', '2', '3'], [True, False, True], [0.1, 0.2, 0.3]]\n",
        "\n",
        "print(lst1[-1][0])"
      ],
      "metadata": {
        "id": "Kz2jZHsGeLlz",
        "colab": {
          "base_uri": "https://localhost:8080/"
        },
        "outputId": "e8011a8f-8485-400c-9293-2dc7ba48b875"
      },
      "execution_count": 33,
      "outputs": [
        {
          "output_type": "stream",
          "name": "stdout",
          "text": [
            "0.1\n"
          ]
        }
      ]
    },
    {
      "cell_type": "markdown",
      "source": [
        "12. Створіть список з десяти елементів різного типу. Отримайте всі елементи, окрім двох перших та двох останніх та збережіть їх в новій змінній."
      ],
      "metadata": {
        "id": "JA47PKTv8zFK"
      }
    },
    {
      "cell_type": "code",
      "source": [
        "lst2 = [False, '1', 2, [3], (2, 3), 5.0, True, '7', 8, [9]]\n",
        "new_lst2 = lst2[2:]\n",
        "\n",
        "print(lst2)\n",
        "print(new_lst2)"
      ],
      "metadata": {
        "id": "_rHdUR-ueP4-",
        "colab": {
          "base_uri": "https://localhost:8080/"
        },
        "outputId": "74535910-ffc1-4a75-9d26-0e9e44e440c2"
      },
      "execution_count": 40,
      "outputs": [
        {
          "output_type": "stream",
          "name": "stdout",
          "text": [
            "[False, '1', 2, [3], (2, 3), 5.0, True, '7', 8, [9]]\n",
            "[2, [3], (2, 3), 5.0, True, '7', 8, [9]]\n"
          ]
        }
      ]
    },
    {
      "cell_type": "markdown",
      "source": [
        "# V. Робота з кортежами."
      ],
      "metadata": {
        "id": "pCjR1dJb1Qbi"
      }
    },
    {
      "cell_type": "markdown",
      "source": [
        "14. Створити кортеж з один елементом."
      ],
      "metadata": {
        "id": "fAZCxAX06R_k"
      }
    },
    {
      "cell_type": "code",
      "source": [
        "my_tuple = (1,)\n",
        "\n",
        "print(my_tuple)"
      ],
      "metadata": {
        "id": "H7d82WkQev3e",
        "colab": {
          "base_uri": "https://localhost:8080/"
        },
        "outputId": "67215f86-3539-43c3-cdd2-7d0e53d1b878"
      },
      "execution_count": 41,
      "outputs": [
        {
          "output_type": "stream",
          "name": "stdout",
          "text": [
            "(1,)\n"
          ]
        }
      ]
    },
    {
      "cell_type": "markdown",
      "source": [
        "15. Порівняйте список та кортеж. Назвіть схожості та відмінності, випадки використання."
      ],
      "metadata": {
        "id": "8LCtYcmI6w1M"
      }
    },
    {
      "cell_type": "markdown",
      "source": [
        "Схоже:\n",
        "- можуть містити різні типи даних\n",
        "- впорядковані\n",
        "- можна ітеруватись -> можна використовувати в циклах\n",
        "- можна взяти слайс\n",
        "\n",
        "Відмінне\n",
        "- typle - immutable, list - mutable\n",
        "- кортеж може бути ключем в словнику, список - ні\n",
        "- кортеж займатиме менше пам'яті з однаковим вмістом, ніж список\n"
      ],
      "metadata": {
        "id": "fUsN1Hnue0C6"
      }
    },
    {
      "cell_type": "markdown",
      "source": [
        "16. Створіть кортеж з 11ти елементів чисел з рухомою комою та отримайте кожен парний за індексом елемент в зворотньому порядку. Наприклад, маючи (1.2, 2.3, 3.3, 4.3, 5.3, 6.3, 7.3, 8.3, 9.3, 0.3), отримати (0.3, 8.3, 6.3, 4.3, 2.3). Результат збережіть в нову змінну та виведіть на екран."
      ],
      "metadata": {
        "id": "m0xrwFijAmDD"
      }
    },
    {
      "cell_type": "code",
      "source": [
        "tuple1 = (1.2, 2.3, 3.3, 4.3, 5.3, 6.3, 7.3, 8.3, 9.3, 0.3)\n",
        "\n",
        "tuple2 = tuple1[-1::-2]\n",
        "\n",
        "print(tuple2)"
      ],
      "metadata": {
        "id": "p-5DAH6XfAGA",
        "colab": {
          "base_uri": "https://localhost:8080/"
        },
        "outputId": "1d73a330-d635-4fac-ff7f-9d3947fcc8b0"
      },
      "execution_count": 8,
      "outputs": [
        {
          "output_type": "stream",
          "name": "stdout",
          "text": [
            "(0.3, 8.3, 6.3, 4.3, 2.3)\n"
          ]
        }
      ]
    },
    {
      "cell_type": "markdown",
      "source": [
        "# VI. Множини (Set)."
      ],
      "metadata": {
        "id": "rW_I9dt3x6cW"
      }
    },
    {
      "cell_type": "markdown",
      "source": [
        "17. Створити множину без елементів. Після цого за допомогою методу додайте кілька різних елементів до множини. Чи множини є змінним типом даних?"
      ],
      "metadata": {
        "id": "zNjRLHLw1Bgg"
      }
    },
    {
      "cell_type": "code",
      "source": [
        "my_set = set()\n",
        "my_set.add(1)\n",
        "my_set.add(1.0)\n",
        "my_set.add(\"1\")\n",
        "my_set.add((1, 1.0, \"1\"))\n",
        "\n",
        "print(my_set)"
      ],
      "metadata": {
        "id": "KOv7zc2Kfo4N",
        "colab": {
          "base_uri": "https://localhost:8080/"
        },
        "outputId": "e0712048-0ecb-4e2a-c7ca-8f149067ba80"
      },
      "execution_count": 10,
      "outputs": [
        {
          "output_type": "stream",
          "name": "stdout",
          "text": [
            "{'1', 1, (1, 1.0, '1')}\n"
          ]
        }
      ]
    },
    {
      "cell_type": "markdown",
      "source": [
        "змінювати елементи множини не можна, але можна видаляти існуючі і додавати нові елементи."
      ],
      "metadata": {
        "id": "vxS6dVYiftZQ"
      }
    },
    {
      "cell_type": "markdown",
      "source": [
        "18. Створити множину, маючи список my_list = [1, 1, 2, 67, 67, 8, 9]. Пояснити, чому \"зникли\" деякі елементи."
      ],
      "metadata": {
        "id": "gHpT0Zw_1HEF"
      }
    },
    {
      "cell_type": "code",
      "source": [
        "my_set = set([1, 1, 2, 67, 67, 8, 9])\n",
        "\n",
        "print(my_set)"
      ],
      "metadata": {
        "id": "qCN4uvJ_fxmu",
        "colab": {
          "base_uri": "https://localhost:8080/"
        },
        "outputId": "2ed6be67-66fa-47e1-eafa-f14b0a075386"
      },
      "execution_count": 11,
      "outputs": [
        {
          "output_type": "stream",
          "name": "stdout",
          "text": [
            "{1, 2, 67, 8, 9}\n"
          ]
        }
      ]
    },
    {
      "cell_type": "markdown",
      "source": [
        "повторювані елементи не допустимі у множині."
      ],
      "metadata": {
        "id": "tFNc1e20fyny"
      }
    },
    {
      "cell_type": "markdown",
      "source": [
        "19. Створіть дві множини. Продемонстуйте над ними операції: обʼєднання, різниці, пересічі та симетричної різниці. Використовуйте методи, що не змінюють множини, а створюють нові."
      ],
      "metadata": {
        "id": "SRMkGizS1UwY"
      }
    },
    {
      "cell_type": "code",
      "source": [
        "set1 = {1, 2, 3, 4, 5}\n",
        "set2 = {3, 5, 6, 7}\n",
        "\n",
        "print(\"set1: %s, set2: %s\" % (set1, set2))\n",
        "print(\"union: %s\" % (set1.union(set2)))\n",
        "print(\"diff: %s\" % (set1.difference(set2)))\n",
        "print(\"inersection: %s\" % (set1.intersection(set2)))\n",
        "print(\"sym_diff: %s\" % (set1.symmetric_difference(set2)))"
      ],
      "metadata": {
        "id": "h0T-VuDnf3Ri",
        "colab": {
          "base_uri": "https://localhost:8080/"
        },
        "outputId": "e13de6f9-955c-4886-f920-8fd1382c5b46"
      },
      "execution_count": 12,
      "outputs": [
        {
          "output_type": "stream",
          "name": "stdout",
          "text": [
            "set1: {1, 2, 3, 4, 5}, set2: {3, 5, 6, 7}\n",
            "union: {1, 2, 3, 4, 5, 6, 7}\n",
            "diff: {1, 2, 4}\n",
            "inersection: {3, 5}\n",
            "sym_diff: {1, 2, 4, 6, 7}\n"
          ]
        }
      ]
    },
    {
      "cell_type": "markdown",
      "source": [
        "# VII. Словники (Dictionary)."
      ],
      "metadata": {
        "id": "kWc8gkzTx7Ea"
      }
    },
    {
      "cell_type": "markdown",
      "source": [
        "20. Створіть пустий словник. До нього додайте чотири пари елементів такі, щоб їхні ключі були різних типів. Чи може список бути ключем? Чому?"
      ],
      "metadata": {
        "id": "i5FLwj-B2ybQ"
      }
    },
    {
      "cell_type": "code",
      "source": [
        "my_dict = {}\n",
        "my_dict[0] = 0\n",
        "my_dict[\"1\"] = \"1\"\n",
        "my_dict[0.3] = 0.3\n",
        "my_dict[(1, 2, 3)] = (1, 2, 3)\n",
        "\n",
        "print(my_dict)"
      ],
      "metadata": {
        "id": "hxgv3BzrgLAV",
        "colab": {
          "base_uri": "https://localhost:8080/"
        },
        "outputId": "0489aec2-ece8-4dea-e5cf-a849d4a337d1"
      },
      "execution_count": 13,
      "outputs": [
        {
          "output_type": "stream",
          "name": "stdout",
          "text": [
            "{0: 0, '1': '1', 0.3: 0.3, (1, 2, 3): (1, 2, 3)}\n"
          ]
        }
      ]
    },
    {
      "cell_type": "markdown",
      "source": [
        "список змінюваний, тому не буде бути ключем словника."
      ],
      "metadata": {
        "id": "zwa7UVN-gR3m"
      }
    },
    {
      "cell_type": "markdown",
      "source": [
        "21. Створіть словник, де значенням в одній з пар теж буде словник, який теж має вкладений словник. Виведіть на екран значення, що міститься в словнику, що знаходиться на найнижчому рівні ієрархії вкладеності (найбільш внутрішній)."
      ],
      "metadata": {
        "id": "WM_pMlJsgoNf"
      }
    },
    {
      "cell_type": "code",
      "source": [
        "new_dict = {1: 1, \"inner dict\": {\"A\": \"LOL\", 5: (1, 2, 3), \"inner dict\": {(1, 2): (2, 1), 100: [1, 2, 3]}}, 2: 2.0}\n",
        "\n",
        "print(new_dict)\n",
        "print(new_dict[\"inner dict\"][\"inner dict\"].values())"
      ],
      "metadata": {
        "id": "60dlP7IHhAy4",
        "colab": {
          "base_uri": "https://localhost:8080/"
        },
        "outputId": "42d5225c-6ba4-4550-f2cb-799a7f5ce36d"
      },
      "execution_count": 15,
      "outputs": [
        {
          "output_type": "stream",
          "name": "stdout",
          "text": [
            "{1: 1, 'inner dict': {'A': 'LOL', 5: (1, 2, 3), 'inner dict': {(1, 2): (2, 1), 100: [1, 2, 3]}}, 2: 2.0}\n",
            "dict_values([(2, 1), [1, 2, 3]])\n"
          ]
        }
      ]
    },
    {
      "cell_type": "markdown",
      "source": [
        "# Вітаю! Ви велика(ий) молодець, що впоралась(вся). Похваліть себе та побалуйте чимось приємним. Я Вами пишаюся."
      ],
      "metadata": {
        "id": "xOZP0hkx6cCr"
      }
    }
  ]
}