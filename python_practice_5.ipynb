{
  "nbformat": 4,
  "nbformat_minor": 0,
  "metadata": {
    "colab": {
      "provenance": []
    },
    "kernelspec": {
      "name": "python3",
      "display_name": "Python 3"
    },
    "language_info": {
      "name": "python"
    }
  },
  "cells": [
    {
      "cell_type": "markdown",
      "source": [
        "# I. OOP"
      ],
      "metadata": {
        "id": "5qV_sehzFCTp"
      }
    },
    {
      "cell_type": "markdown",
      "source": [
        "1. (6б). Створіть клас Animal, додайте три атрибути, один з яких має значення за замовчуванням та два методи на свій розсуд."
      ],
      "metadata": {
        "id": "tx_U_hOALyfg"
      }
    },
    {
      "cell_type": "code",
      "source": [
        "class Animal:\n",
        "  def __init__(self, name, breed, age=0):\n",
        "    self.name = name\n",
        "    self.breed = breed\n",
        "    self.age = age\n",
        "\n",
        "  def introduce(self):\n",
        "    return f'My name is {self.name}. I\\'m a(n) {self.breed} and I\\'m {self.age} mounthes old.'\n",
        "\n",
        "  def full_age(self):\n",
        "    return f'I\\'m {self.age // 12} years and {self.age % 12} mounthes old.'"
      ],
      "metadata": {
        "id": "-Vf895KaL88N"
      },
      "execution_count": 2,
      "outputs": []
    },
    {
      "cell_type": "markdown",
      "source": [
        "2. (2б). Створіть два обʼєкти цього класу, де один з обʼєктів створюється із дефолтним значенням атрибуту. На одному обʼєкті отримайте значення його атрибуту, а на іншому викличте один з його методів."
      ],
      "metadata": {
        "id": "X_UlOMB0L93w"
      }
    },
    {
      "cell_type": "code",
      "source": [
        "animal1 = Animal('Ruta', 'toy poodle', 11)\n",
        "animal2 = Animal('Haisel', 'boxer')\n",
        "\n",
        "print(f'animal1.name -> {animal1.name}')\n",
        "print(f'animal2.introduce() -> {animal2.introduce()}')"
      ],
      "metadata": {
        "id": "7gBu0ESOMCpG",
        "colab": {
          "base_uri": "https://localhost:8080/"
        },
        "outputId": "a143f5dc-bfdc-4ba4-cde1-6be5fc9495eb"
      },
      "execution_count": 4,
      "outputs": [
        {
          "output_type": "stream",
          "name": "stdout",
          "text": [
            "animal1.name -> Ruta\n",
            "animal2.introduce() -> My name is Haisel. I'm a(n) boxer and I'm 0 mounthes old.\n"
          ]
        }
      ]
    },
    {
      "cell_type": "markdown",
      "source": [
        "3. (5б). Створіть клас, де атрибути мають різні рівні доступу. Спробуйте отримати їхні значення та опишіть результати."
      ],
      "metadata": {
        "id": "HoqSCZt1MHn5"
      }
    },
    {
      "cell_type": "code",
      "source": [
        "class MyClass:\n",
        "  def __init__(self, pub, prot, priv):\n",
        "    self.pub = pub\n",
        "    self._prot = prot\n",
        "    self.__priv = priv\n",
        "\n",
        "instance1 = MyClass('public', 'protected', 'private')\n",
        "print(f'instance1.pub -> {instance1.pub}') # до public fields доступ є завжди.\n",
        "print(f'instance1._prot -> {instance1._prot}') # до protected fields можна доступити, але розробник цього не хотів би.\n",
        "print(f'instance1.__priv -> {instance1.__priv}') # до private fields ззовні класу доступитись не можна."
      ],
      "metadata": {
        "id": "r9b3vJxBMSPV",
        "colab": {
          "base_uri": "https://localhost:8080/",
          "height": 211
        },
        "outputId": "443ccb74-5f6b-451c-8c2f-03257a0c0e4e"
      },
      "execution_count": 5,
      "outputs": [
        {
          "output_type": "stream",
          "name": "stdout",
          "text": [
            "instance1.pub -> public\n",
            "instance1._prot -> protected\n"
          ]
        },
        {
          "output_type": "error",
          "ename": "AttributeError",
          "evalue": "'MyClass' object has no attribute '__priv'",
          "traceback": [
            "\u001b[0;31m---------------------------------------------------------------------------\u001b[0m",
            "\u001b[0;31mAttributeError\u001b[0m                            Traceback (most recent call last)",
            "\u001b[0;32m<ipython-input-5-76036db9c43d>\u001b[0m in \u001b[0;36m<cell line: 10>\u001b[0;34m()\u001b[0m\n\u001b[1;32m      8\u001b[0m \u001b[0mprint\u001b[0m\u001b[0;34m(\u001b[0m\u001b[0;34mf'instance1.pub -> {instance1.pub}'\u001b[0m\u001b[0;34m)\u001b[0m\u001b[0;34m\u001b[0m\u001b[0;34m\u001b[0m\u001b[0m\n\u001b[1;32m      9\u001b[0m \u001b[0mprint\u001b[0m\u001b[0;34m(\u001b[0m\u001b[0;34mf'instance1._prot -> {instance1._prot}'\u001b[0m\u001b[0;34m)\u001b[0m\u001b[0;34m\u001b[0m\u001b[0;34m\u001b[0m\u001b[0m\n\u001b[0;32m---> 10\u001b[0;31m \u001b[0mprint\u001b[0m\u001b[0;34m(\u001b[0m\u001b[0;34mf'instance1.__priv -> {instance1.__priv}'\u001b[0m\u001b[0;34m)\u001b[0m\u001b[0;34m\u001b[0m\u001b[0;34m\u001b[0m\u001b[0m\n\u001b[0m",
            "\u001b[0;31mAttributeError\u001b[0m: 'MyClass' object has no attribute '__priv'"
          ]
        }
      ]
    },
    {
      "cell_type": "markdown",
      "source": [
        "4. (7б). Як ви розумієте термін self? Для чого використовується метод __init __?"
      ],
      "metadata": {
        "id": "5op2m2vgMSkZ"
      }
    },
    {
      "cell_type": "markdown",
      "source": [
        "self - вказівник на конкретний інстанс класу. використовується для роботи з полями та методами конкректого ексепляря класу.\n",
        "__init__ - метод, який викликається автоматично після творення нового об'єкта. його задача - заповнити поля нового екземпляру."
      ],
      "metadata": {
        "id": "DyiPqNRvMasx"
      }
    },
    {
      "cell_type": "markdown",
      "source": [
        "5. (9б). Створіть клас Фігура без атрибутів, з методом get_area для отримання площі фігури, що повертає 0 та __add __, який приймає self та other в якості аргументів, а повертає суму площин фігур self та other."
      ],
      "metadata": {
        "id": "-6X8EGfjMd2y"
      }
    },
    {
      "cell_type": "code",
      "source": [
        "class Figure:\n",
        "  def get_area(self):\n",
        "    return 0\n",
        "\n",
        "  def __add__(self, other):\n",
        "    return self.get_area() + other.get_area()"
      ],
      "metadata": {
        "id": "4rvO_wYUMaEr"
      },
      "execution_count": 6,
      "outputs": []
    },
    {
      "cell_type": "markdown",
      "source": [
        "6. (11б). Створіть 2 дочірніх класи від Фігури: Трикутник та Коло, які мають атрибути, необхідні для розрахунку площин. Визначте метод get_area в кожному з них так, щоби вони розраховували площу в залежності від формули для кожного типу фігури. Створіть обʼєкт класу Трикутник та обʼєкт класу Коло. Виконайте операцію суми за допомогою оператора + між ними."
      ],
      "metadata": {
        "id": "SFcKnnv5Mo_z"
      }
    },
    {
      "cell_type": "code",
      "source": [
        "class Triangle (Figure) :\n",
        "  def __init__(self, a, b, c):\n",
        "    self.a = a\n",
        "    self.b = b\n",
        "    self.c = c\n",
        "\n",
        "  def get_area(self):\n",
        "    semiP = (self.a + self.b + self.c) / 2.0\n",
        "    return (semiP * (semiP - self.a) * (semiP - self.b) * (semiP - self.c))**0.5\n",
        "\n",
        "class Circle (Figure) :\n",
        "  def __init__(self, r):\n",
        "    self.r = r\n",
        "\n",
        "  def get_area(self):\n",
        "    return 3.1415 * self.r**2\n",
        "\n",
        "triangle = Triangle(3, 4, 5)\n",
        "circle = Circle(1)\n",
        "print(f'triangle + circle -> {triangle + circle}')"
      ],
      "metadata": {
        "id": "H3GVNr69Muf3",
        "colab": {
          "base_uri": "https://localhost:8080/"
        },
        "outputId": "7c223950-c672-4e92-8838-50b66db9da33"
      },
      "execution_count": 9,
      "outputs": [
        {
          "output_type": "stream",
          "name": "stdout",
          "text": [
            "triangle + circle -> 9.1415\n"
          ]
        }
      ]
    },
    {
      "cell_type": "markdown",
      "source": [
        "7. (3б). Продемонструйте різницю між isinstance та issubclass."
      ],
      "metadata": {
        "id": "HCvR206YMvLK"
      }
    },
    {
      "cell_type": "code",
      "source": [
        "print(f'isinstance(triangle, Triangle) -> {isinstance(triangle, Triangle)}')\n",
        "print(f'isinstance(triangle, Figure) -> {isinstance(triangle, Figure)}')\n",
        "print(f'isinstance(triangle, Circle) -> {isinstance(triangle, Circle)}')\n",
        "print(f'issubclass(Triangle, Triangle) -> {issubclass(Triangle, Triangle)}')\n",
        "print(f'issubclass(Triangle, Figure) -> {issubclass(Triangle, Figure)}')\n",
        "print(f'issubclass(Triangle, Circle) -> {issubclass(Triangle, Circle)}')"
      ],
      "metadata": {
        "id": "L_V1bBvDM0GN",
        "colab": {
          "base_uri": "https://localhost:8080/"
        },
        "outputId": "ad1cb084-1e41-42b6-dba9-9a1a919975dc"
      },
      "execution_count": 11,
      "outputs": [
        {
          "output_type": "stream",
          "name": "stdout",
          "text": [
            "isinstance(triangle, Triangle) -> True\n",
            "isinstance(triangle, Figure) -> True\n",
            "isinstance(triangle, Circle) -> False\n",
            "issubclass(Triangle, Triangle) -> True\n",
            "issubclass(Triangle, Figure) -> True\n",
            "issubclass(Triangle, Circle) -> False\n"
          ]
        }
      ]
    },
    {
      "cell_type": "markdown",
      "source": [
        "8. (13б). Створіть клас BankAccount з приватними атрибутами balance та account_number. Реалізуйте методи поповнення та зняття коштів, забезпечивши належну інкапсуляцію. Підказка: використовуйте декоратори property та setter."
      ],
      "metadata": {
        "id": "jjsaBZ-iM0Qq"
      }
    },
    {
      "cell_type": "code",
      "source": [
        "class BankAccount:\n",
        "  def __init__(self, account_number, balance=0.0):\n",
        "    self.__account_number = account_number\n",
        "    self.__balance = balance\n",
        "\n",
        "  @property\n",
        "  def balance(self):\n",
        "    return self.__balance\n",
        "\n",
        "  @property\n",
        "  def account_number(self):\n",
        "      return self.__account_number\n",
        "\n",
        "  @balance.setter\n",
        "  def balance(self, balance):\n",
        "    if balance < 0:\n",
        "      print('negative balance set not allowed')\n",
        "      return\n",
        "    self.__balance = balance\n",
        "\n",
        "  def deposit(self, amount):\n",
        "    if amount < 0:\n",
        "      print('invalid amount')\n",
        "      return\n",
        "    self.balance += amount\n",
        "\n",
        "  def withdraw(self, amount):\n",
        "    if amount < 0:\n",
        "      print('invalid amount')\n",
        "      return\n",
        "    if self.balance - amount < 0:\n",
        "      print('insufficient balance')\n",
        "      return\n",
        "    self.balance -= amount\n",
        "\n",
        "  # to easier printing.\n",
        "  def __str__(self):\n",
        "    return f'acount number: {self.account_number}, balance: {self.balance:.2f}$'\n",
        "\n",
        "account = BankAccount(10001, 512.2)\n",
        "print(account)\n",
        "print(f'account.account_number -> {account.account_number}')\n",
        "print(f'account.balance -> {account.balance}')\n",
        "\n",
        "print('deposited 5$')\n",
        "account.deposit(5)\n",
        "print(account)\n",
        "\n",
        "print('withdrawed 4.15$')\n",
        "account.withdraw(4.15)\n",
        "print(account)\n",
        "\n",
        "print('set balance to 300$')\n",
        "account.balance = 300\n",
        "print(account)\n",
        "\n",
        "print('attempt to set balance to -5$')\n",
        "account.balance = -5\n",
        "print(account)\n",
        "\n",
        "print('attempt to deposit -15$')\n",
        "account.deposit(-15)\n",
        "print(account)\n",
        "\n",
        "print('attempt to withdraw -5$')\n",
        "account.withdraw(-5)\n",
        "print(account)\n",
        "\n",
        "print('attempt to withdraw more than we have (100000$)')\n",
        "account.withdraw(100000)\n",
        "print(account)"
      ],
      "metadata": {
        "id": "xCvZ7lh8M7YA",
        "colab": {
          "base_uri": "https://localhost:8080/"
        },
        "outputId": "6120d889-c587-43de-8243-c9bd03980350"
      },
      "execution_count": 17,
      "outputs": [
        {
          "output_type": "stream",
          "name": "stdout",
          "text": [
            "acount number: 10001, balance: 512.20$\n",
            "account.account_number -> 10001\n",
            "account.balance -> 512.2\n",
            "deposited 5$\n",
            "acount number: 10001, balance: 517.20$\n",
            "withdrawed 4.15$\n",
            "acount number: 10001, balance: 513.05$\n",
            "set balance to 300$\n",
            "acount number: 10001, balance: 300.00$\n",
            "attempt to set balance to -5$\n",
            "negatiev balance set not allowed\n",
            "acount number: 10001, balance: 300.00$\n",
            "attempt to deposit -15$\n",
            "invalid amount\n",
            "acount number: 10001, balance: 300.00$\n",
            "attempt to withdraw -5$\n",
            "invalid amount\n",
            "acount number: 10001, balance: 300.00$\n",
            "attempt to withdraw more than we have (100000$)\n",
            "insufficient balance\n",
            "acount number: 10001, balance: 300.00$\n"
          ]
        }
      ]
    },
    {
      "cell_type": "markdown",
      "source": [
        "9. (11б). Створіть клас Library, який містить список об'єктів типу Book. Реалізуйте методи для додавання книги, видалення книги та відображення списку книг."
      ],
      "metadata": {
        "id": "tIzL2SJTM8ft"
      }
    },
    {
      "cell_type": "code",
      "source": [
        "class Book:\n",
        "  def __init__(self, title, author='unknown'):\n",
        "    self.title = title\n",
        "    self.author = author\n",
        "\n",
        "  def __str__(self):\n",
        "    return f'{self.title} [{self.author}]'\n",
        "\n",
        "class Library:\n",
        "  def __init__(self):\n",
        "    self.books = []\n",
        "\n",
        "  def add_book(self, book):\n",
        "    self.books.append(book)\n",
        "\n",
        "  def remove_book(self, book):\n",
        "    self.books.remove(book)\n",
        "    #for _book in self.books:\n",
        "    #  if _book.title == book.title and _book.author == book.author:\n",
        "    #    self.books.remove(_book)\n",
        "    #    return\n",
        "\n",
        "  def __str__(self):\n",
        "    out = 'lib:\\n'\n",
        "    if len(self.books) == 0:\n",
        "      out += '<empty>'\n",
        "    for book in self.books:\n",
        "      out += f'{book}\\n'\n",
        "    return out\n",
        "\n",
        "lib = Library()\n",
        "\n",
        "book1 = Book(\"A\")\n",
        "book2 = Book(\"A\", \"Author A\")\n",
        "book3 = Book(\"B\", \"Author B\")\n",
        "\n",
        "print(lib)\n",
        "print()\n",
        "print(f'add book {book1}')\n",
        "lib.add_book(book1)\n",
        "print(lib)\n",
        "print()\n",
        "print(f'add book {book2}')\n",
        "lib.add_book(book2)\n",
        "print(lib)\n",
        "print()\n",
        "print(f'add book {book3}')\n",
        "lib.add_book(book3)\n",
        "print(lib)\n",
        "print()\n",
        "print(f'remove book {book1}')\n",
        "lib.remove_book(book1)\n",
        "print(lib)\n",
        "print()\n",
        "print(f'remove book {book2}')\n",
        "lib.remove_book(book2)\n",
        "print(lib)\n",
        "print()"
      ],
      "metadata": {
        "id": "HWxfJKLtNAUZ",
        "colab": {
          "base_uri": "https://localhost:8080/"
        },
        "outputId": "4e8d35bc-27fd-4f57-d57e-cd74fe0c50d5"
      },
      "execution_count": 23,
      "outputs": [
        {
          "output_type": "stream",
          "name": "stdout",
          "text": [
            "lib:\n",
            "<empty>\n",
            "\n",
            "add book A [unknown]\n",
            "lib:\n",
            "A [unknown]\n",
            "\n",
            "\n",
            "add book A [Author A]\n",
            "lib:\n",
            "A [unknown]\n",
            "A [Author A]\n",
            "\n",
            "\n",
            "add book B [Author B]\n",
            "lib:\n",
            "A [unknown]\n",
            "A [Author A]\n",
            "B [Author B]\n",
            "\n",
            "\n",
            "remove book A [unknown]\n",
            "lib:\n",
            "A [Author A]\n",
            "B [Author B]\n",
            "\n",
            "\n",
            "remove book A [Author A]\n",
            "lib:\n",
            "B [Author B]\n",
            "\n",
            "\n"
          ]
        }
      ]
    },
    {
      "cell_type": "markdown",
      "source": [
        "10. (13б). Створіть клас Person з атрибутами name та age. Створіть ще один клас Employee з такими атрибутами, як department та salary. Створіть клас Manager, який успадковує обидва класи Person та Employee. Продемонструйте використання множинної спадковості, створивши обʼєкт класу Manager та отримавши mro для цього класу."
      ],
      "metadata": {
        "id": "lmV8pAwwNIqu"
      }
    },
    {
      "cell_type": "code",
      "source": [
        "class Person:\n",
        "  def __init__(self, name, age):\n",
        "    self.name = name\n",
        "    self.age = age\n",
        "\n",
        "class Employee:\n",
        "  def __init__(self, department, salary):\n",
        "    self.department = department\n",
        "    self.salary = salary\n",
        "\n",
        "class Manager(Person, Employee):\n",
        "  def __init__(self, name, age, department, salary):\n",
        "    Person.__init__(self, name, age)\n",
        "    Employee.__init__(self, department, salary)\n",
        "\n",
        "manager = Manager(\"Alex\", 40, \"Autocarssss\", 10000)\n",
        "print(f'manager {manager.name} {manager.age} {manager.department} {manager.salary}')\n",
        "print('mro for Manager:', Manager.mro())"
      ],
      "metadata": {
        "id": "R49grKlWNPeN",
        "colab": {
          "base_uri": "https://localhost:8080/"
        },
        "outputId": "0177f76c-97de-44b4-c4b8-c2601c1e440f"
      },
      "execution_count": 28,
      "outputs": [
        {
          "output_type": "stream",
          "name": "stdout",
          "text": [
            "manager Alex 40 Autocarssss 10000\n",
            "MRO for Manager: [<class '__main__.Manager'>, <class '__main__.Person'>, <class '__main__.Employee'>, <class 'object'>]\n"
          ]
        }
      ]
    },
    {
      "cell_type": "markdown",
      "source": [
        "# II. Iterator"
      ],
      "metadata": {
        "id": "dIJyUiNBFG8G"
      }
    },
    {
      "cell_type": "markdown",
      "source": [
        "11. (4б). Визначте рядок(str) з 4ма різними за значенням символами. Створіть ітератор на основі цього рядка. Викличте 5 разів функцію next на ітераторі, 4ри перших з них огорніть у ф-цію print()."
      ],
      "metadata": {
        "id": "13vsm0NyKIzL"
      }
    },
    {
      "cell_type": "code",
      "source": [
        "s = \"1a2b\"\n",
        "iterator = iter(s)\n",
        "print(next(iterator))\n",
        "print(next(iterator))\n",
        "print(next(iterator))\n",
        "print(next(iterator))\n",
        "next(iterator)"
      ],
      "metadata": {
        "id": "81ntabAkKuz-",
        "colab": {
          "base_uri": "https://localhost:8080/",
          "height": 245
        },
        "outputId": "efbb22ed-0dea-40b8-e48a-ac1ca414a23e"
      },
      "execution_count": 29,
      "outputs": [
        {
          "output_type": "stream",
          "name": "stdout",
          "text": [
            "1\n",
            "a\n",
            "2\n",
            "b\n"
          ]
        },
        {
          "output_type": "error",
          "ename": "StopIteration",
          "evalue": "",
          "traceback": [
            "\u001b[0;31m---------------------------------------------------------------------------\u001b[0m",
            "\u001b[0;31mStopIteration\u001b[0m                             Traceback (most recent call last)",
            "\u001b[0;32m<ipython-input-29-85948af0a82f>\u001b[0m in \u001b[0;36m<cell line: 7>\u001b[0;34m()\u001b[0m\n\u001b[1;32m      5\u001b[0m \u001b[0mprint\u001b[0m\u001b[0;34m(\u001b[0m\u001b[0mnext\u001b[0m\u001b[0;34m(\u001b[0m\u001b[0miterator\u001b[0m\u001b[0;34m)\u001b[0m\u001b[0;34m)\u001b[0m\u001b[0;34m\u001b[0m\u001b[0;34m\u001b[0m\u001b[0m\n\u001b[1;32m      6\u001b[0m \u001b[0mprint\u001b[0m\u001b[0;34m(\u001b[0m\u001b[0mnext\u001b[0m\u001b[0;34m(\u001b[0m\u001b[0miterator\u001b[0m\u001b[0;34m)\u001b[0m\u001b[0;34m)\u001b[0m\u001b[0;34m\u001b[0m\u001b[0;34m\u001b[0m\u001b[0m\n\u001b[0;32m----> 7\u001b[0;31m \u001b[0mnext\u001b[0m\u001b[0;34m(\u001b[0m\u001b[0miterator\u001b[0m\u001b[0;34m)\u001b[0m\u001b[0;34m\u001b[0m\u001b[0;34m\u001b[0m\u001b[0m\n\u001b[0m",
            "\u001b[0;31mStopIteration\u001b[0m: "
          ]
        }
      ]
    },
    {
      "cell_type": "markdown",
      "source": [
        "А що якщо викликати цю ж функцію на рядку?"
      ],
      "metadata": {
        "id": "aekWHGXOLRsO"
      }
    },
    {
      "cell_type": "code",
      "source": [
        "print(next(s))"
      ],
      "metadata": {
        "id": "mxATGsErLV1i",
        "colab": {
          "base_uri": "https://localhost:8080/",
          "height": 141
        },
        "outputId": "615bac82-f9ab-4c45-d3fa-41b3bc946683"
      },
      "execution_count": 30,
      "outputs": [
        {
          "output_type": "error",
          "ename": "TypeError",
          "evalue": "'str' object is not an iterator",
          "traceback": [
            "\u001b[0;31m---------------------------------------------------------------------------\u001b[0m",
            "\u001b[0;31mTypeError\u001b[0m                                 Traceback (most recent call last)",
            "\u001b[0;32m<ipython-input-30-62c0403b76d4>\u001b[0m in \u001b[0;36m<cell line: 1>\u001b[0;34m()\u001b[0m\n\u001b[0;32m----> 1\u001b[0;31m \u001b[0mprint\u001b[0m\u001b[0;34m(\u001b[0m\u001b[0mnext\u001b[0m\u001b[0;34m(\u001b[0m\u001b[0ms\u001b[0m\u001b[0;34m)\u001b[0m\u001b[0;34m)\u001b[0m\u001b[0;34m\u001b[0m\u001b[0;34m\u001b[0m\u001b[0m\n\u001b[0m",
            "\u001b[0;31mTypeError\u001b[0m: 'str' object is not an iterator"
          ]
        }
      ]
    },
    {
      "cell_type": "markdown",
      "source": [
        " 12. (5б). Опишіть своїми словами в одному реченні, як ви розумієте різницю між ітерабельними обʼєктами та ітераторами (можна на прикладі)."
      ],
      "metadata": {
        "id": "XwtMEopwJ4pH"
      }
    },
    {
      "cell_type": "markdown",
      "source": [
        "*місце для відповіді"
      ],
      "metadata": {
        "id": "-sHrODc3KFn8"
      }
    },
    {
      "cell_type": "markdown",
      "source": [
        "13. (11б). Створіть клас, що має визначений Iterator Protocol та при кожному виклику next повертає літери англійської абетки, поки вони не вичерпаються."
      ],
      "metadata": {
        "id": "E9qJWmNbK8Gl"
      }
    },
    {
      "cell_type": "code",
      "source": [
        "class Alphabet:\n",
        "  def __init__(self):\n",
        "    self.current_char_code = ord('A') - 1\n",
        "\n",
        "  def __iter__(self):\n",
        "    return self\n",
        "\n",
        "  def __next__(self):\n",
        "    if self.current_char_code >= ord('Z'):\n",
        "      raise StopIteration\n",
        "\n",
        "    self.current_char_code += 1\n",
        "    return chr(self.current_char_code)\n",
        "\n",
        "a = Alphabet()\n",
        "for char in a:\n",
        "  print(char)"
      ],
      "metadata": {
        "id": "cqx-g_RsLo6I",
        "colab": {
          "base_uri": "https://localhost:8080/"
        },
        "outputId": "af13487f-7c3e-40ee-cacb-431347acf341"
      },
      "execution_count": 33,
      "outputs": [
        {
          "output_type": "stream",
          "name": "stdout",
          "text": [
            "A\n",
            "B\n",
            "C\n",
            "D\n",
            "E\n",
            "F\n",
            "G\n",
            "H\n",
            "I\n",
            "J\n",
            "K\n",
            "L\n",
            "M\n",
            "N\n",
            "O\n",
            "P\n",
            "Q\n",
            "R\n",
            "S\n",
            "T\n",
            "U\n",
            "V\n",
            "W\n",
            "X\n",
            "Y\n",
            "Z\n"
          ]
        }
      ]
    },
    {
      "cell_type": "markdown",
      "source": [
        "# Вітаю! Ви велика(ий) молодець, що впоралась(вся). Похваліть себе та побалуйте чимось приємним. Я Вами пишаюся."
      ],
      "metadata": {
        "id": "Z3E3S_s1Fv7-"
      }
    }
  ]
}